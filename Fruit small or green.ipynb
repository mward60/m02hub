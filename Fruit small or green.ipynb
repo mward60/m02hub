{
 "cells": [
  {
   "cell_type": "code",
   "execution_count": 1,
   "id": "9524e98b",
   "metadata": {},
   "outputs": [
    {
     "name": "stdout",
     "output_type": "stream",
     "text": [
      "Choose a Pea, Cherry, Watermelon, or PumkinPumpkin\n",
      "Pumpkin is not small and not green.\n"
     ]
    }
   ],
   "source": [
    "#Megen Ward\n",
    "#assign \"Small\" and \"Green\" titles to fruit.\n",
    "fruit = input(\"Choose a Pea, Cherry, Watermelon, or Pumpkin\")\n",
    "\n",
    "if fruit == \"Cherry\" or fruit == \"Pea\":\n",
    "    small = True\n",
    "else:\n",
    "    small = False\n",
    "\n",
    "if fruit == \"Watermelon\" or fruit == \"Pea\":\n",
    "    green = True\n",
    "else:\n",
    "    green = False\n",
    "\n",
    "if small and green:\n",
    "    print(fruit, \"is small and green.\")\n",
    "elif small and not green:\n",
    "    print(fruit, \"is small but not green.\")\n",
    "elif not small and green:\n",
    "    print(fruit, \"is not small but is green.\")\n",
    "else:\n",
    "    print(fruit, \"is not small and not green.\")"
   ]
  }
 ],
 "metadata": {
  "kernelspec": {
   "display_name": "Python 3 (ipykernel)",
   "language": "python",
   "name": "python3"
  },
  "language_info": {
   "codemirror_mode": {
    "name": "ipython",
    "version": 3
   },
   "file_extension": ".py",
   "mimetype": "text/x-python",
   "name": "python",
   "nbconvert_exporter": "python",
   "pygments_lexer": "ipython3",
   "version": "3.9.13"
  }
 },
 "nbformat": 4,
 "nbformat_minor": 5
}
