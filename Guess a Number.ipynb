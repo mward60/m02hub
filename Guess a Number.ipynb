{
 "cells": [
  {
   "cell_type": "code",
   "execution_count": 2,
   "id": "881fbae9",
   "metadata": {},
   "outputs": [
    {
     "name": "stdout",
     "output_type": "stream",
     "text": [
      "Pick a secret number 1 through 10: 3\n",
      "Guess a number 1 through 10: 8\n",
      "Too high\n"
     ]
    }
   ],
   "source": [
    "#Megen Ward\n",
    "#This is a guessing game from one to ten. \n",
    "\n",
    "secret = 1\n",
    "guess = 1\n",
    "\n",
    "secret = input(\"Pick a secret number 1 through 10: \")\n",
    "guess = input(\"Guess a number 1 through 10: \")\n",
    "\n",
    "if guess == secret:\n",
    "    print(\"Just Right\")\n",
    "elif guess > secret:\n",
    "    print(\"Too high\")\n",
    "elif guess < secret:\n",
    "    print(\"Too Low\")\n",
    "        \n",
    "        "
   ]
  },
  {
   "cell_type": "code",
   "execution_count": null,
   "id": "25c107a1",
   "metadata": {},
   "outputs": [],
   "source": []
  }
 ],
 "metadata": {
  "kernelspec": {
   "display_name": "Python 3 (ipykernel)",
   "language": "python",
   "name": "python3"
  },
  "language_info": {
   "codemirror_mode": {
    "name": "ipython",
    "version": 3
   },
   "file_extension": ".py",
   "mimetype": "text/x-python",
   "name": "python",
   "nbconvert_exporter": "python",
   "pygments_lexer": "ipython3",
   "version": "3.9.13"
  }
 },
 "nbformat": 4,
 "nbformat_minor": 5
}
